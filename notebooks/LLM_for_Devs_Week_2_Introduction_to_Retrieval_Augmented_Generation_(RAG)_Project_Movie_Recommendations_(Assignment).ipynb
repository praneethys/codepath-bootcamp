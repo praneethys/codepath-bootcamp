{
  "cells": [
    {
      "cell_type": "markdown",
      "metadata": {
        "id": "1Eg9jyCOKOnt"
      },
      "source": [
        "\n",
        "# 🎥 Build a RAG question answering system for movie recommendations\n",
        "\n",
        "Our goal for this project is to build a movie question answering system using RAG.\n",
        "\n",
        "We will use a dataset from the Internet Movie Database (IMDb).\n",
        "\n",
        "Users will be interact with the dataset by asking questions about movies, and the chatbot will retrieve relevant information from our dataset to answer those questions.\n"
      ]
    },
    {
      "cell_type": "markdown",
      "metadata": {
        "id": "_d9vknpRQbF0"
      },
      "source": [
        "# 💻 Install `datasets` library to access IMDb dataset from Hugging Face Hub\n",
        "\n",
        "[Hugging Face Hub](https://huggingface.co/docs/hub/en/index) is to machine learning what GitHub is to software development—a centralized platform that promotes open sharing, testing, and collaboration.\n",
        "\n",
        "The models and datasets on the Hub are hosted as Git repositories, allowing for versioning and reproducibility.\n",
        "\n",
        "The Hub provides a simple way for developers to discover, download, and use these pre-trained models and datasets through the `huggingface-hub` Python library, which you will be installing below.\n",
        "\n",
        "In addition to models, the Hub also hosts a variety of machine learning applications and demos created by the community, called \"Spaces\".\n",
        "\n",
        "[Here is documentation](https://huggingface.co/docs/datasets/en/index) on `datasets` if you want to read more about its capabilities."
      ]
    },
    {
      "cell_type": "code",
      "execution_count": null,
      "metadata": {
        "colab": {
          "base_uri": "https://localhost:8080/"
        },
        "id": "93Yk0a2nTm8F",
        "outputId": "d23cc524-b9b7-40b6-b045-881e140a76de"
      },
      "outputs": [],
      "source": [
        "%pip install -q -U datasets"
      ]
    },
    {
      "cell_type": "markdown",
      "metadata": {
        "id": "1ewutAbeVkOV"
      },
      "source": [
        "# 💻 Generate a Hugging Face token\n",
        "\n",
        "Generate a new token on Hugging Face with \"Write\" permissions using the instructions below. We will need it to download datasets via `huggingface-hub`.\n",
        "\n",
        "[How to generate a new Hugging Face token](https://huggingface.co/docs/hub/en/security-tokens)\n"
      ]
    },
    {
      "cell_type": "markdown",
      "metadata": {
        "id": "Ota769nCSOMe"
      },
      "source": [
        "# 💻 Add your Hugging Face token to your Google Colab Secrets\n",
        "\n",
        "Use the sidebar on the left to add your Hugging Face token `HF_TOKEN` to your Google Colab secrets.\n",
        "\n",
        "NOTE: The secrets are persisted for all future Colab sessions.\n",
        "\n",
        "![Screenshot](https://drive.google.com/uc?export=view&id=10U0nesFSgXdCR4ywPk18mHERG47T_rRt)"
      ]
    },
    {
      "cell_type": "markdown",
      "metadata": {
        "id": "6gIDP9BTX6sr"
      },
      "source": [
        "# 💻 Download an IMDB datset from Hugging Face Hub"
      ]
    },
    {
      "cell_type": "markdown",
      "metadata": {
        "id": "AUux5SARkjGC"
      },
      "source": [
        "Use the `datasets` documentation to load the [ShubhamChoksi/IMDB_Movies](https://huggingface.co/datasets/ShubhamChoksi/IMDB_Movies) dataset.\n",
        "\n",
        "[Datasets documentation](https://pypi.org/project/datasets/)"
      ]
    },
    {
      "cell_type": "code",
      "execution_count": 1,
      "metadata": {
        "colab": {
          "base_uri": "https://localhost:8080/",
          "height": 113,
          "referenced_widgets": [
            "b92e637104064258830188d7cd44de2c",
            "75283825bfcd4e88ad6e215845b1c9f7",
            "f9ab6823b6204f5ebf9377eb9378c5a5",
            "996fefe451b3413b92e51b62ce17a88e",
            "ddf5ca36fbbe4b2184fb12dcdcde7b22",
            "cca8bd078040495eae1d6191402b7ff8",
            "2d97174b8c36477d840b295bc0e1ae21",
            "ce798f5a42634745a247b48b05a2dcce",
            "0e41beaba551406e8081f7982783b8ff",
            "c4902457933c4ba4ac8cb86c35fcd960",
            "43f72028c1584b57a434b0558c1eac5c",
            "950ad9277c9f446196f4c754f4a3ad92",
            "829954e8a593433f9264782b4aee81c7",
            "92a8cddfcf874911bee9a74c18e809b7",
            "941d014fa00845688c1c1d3b20ecb962",
            "004e5bb19ebc4191b83b02237bc8bc83",
            "505c5e5998b94bdd8b148421301caf9e",
            "8a04d10f33844dbea9e9e795d011aef0",
            "a0bfb042678b474bb8699c2b0ec9aedc",
            "c38cf42f7b3547d9a3468e4443b165a6",
            "0568abfe1ece43f69d4b8dfbbd84a4bf",
            "de40c74aaef647e4b7e6261bb8992111",
            "75d010b8e06c462bac20cf980b75a774",
            "dd04aed4b075444b895cf4c3f41f5aa2",
            "a949e44dfa7b42d38cc962f1f1f708a2",
            "e5613f6d23e244ceb622128f14d4c3d3",
            "2408d1a68fe444888d17a5aed474e4f3",
            "8a2d18190a784572bea8d357b28660c7",
            "5631c14d92fb4ea8bd3f0326e23ed7ba",
            "d4fcfbdc91044ef884abdd5d12161514",
            "8b41a607b95e43dea508ec7cf2e8bd67",
            "3cc5c62f003b4394b8aa4b7fb73f115a",
            "2a91a0a0debf4f30a5b377599f483588"
          ]
        },
        "id": "_rHAbpA_S3H5",
        "outputId": "ede19e8f-4f96-4718-9bba-03386ca0190f"
      },
      "outputs": [
        {
          "name": "stderr",
          "output_type": "stream",
          "text": [
            "/Users/praneethyerrapragada/Documents/work/codepath/venv/lib/python3.11/site-packages/tqdm/auto.py:21: TqdmWarning: IProgress not found. Please update jupyter and ipywidgets. See https://ipywidgets.readthedocs.io/en/stable/user_install.html\n",
            "  from .autonotebook import tqdm as notebook_tqdm\n"
          ]
        }
      ],
      "source": [
        "from datasets import load_dataset_builder, load_dataset # TODO\n",
        "\n",
        "# dataset_builder = load_dataset_builder(\"ShubhamChoksi/IMDB_Movies\")\n",
        "# dataset_builder.info.features\n",
        "\n",
        "# TODO: How do we luse `datasets` to load the ShubhamChoksi/IMDB_Movies dataset?\n",
        "dataset = load_dataset(\"ShubhamChoksi/IMDB_Movies\", split=\"train\")"
      ]
    },
    {
      "cell_type": "markdown",
      "metadata": {
        "id": "1ngiu--zZ193"
      },
      "source": [
        "# 💻 Store the IMDb dataset locally as CSV file\n",
        "\n",
        "We will be using [LangChain](https://www.langchain.com/) to build our RAG question answering system.\n",
        "\n",
        "[LangChain](https://www.langchain.com/) is an open-source framework designed to simplify the development of applications powered by LLMs. It provides a set of tools, components, and interfaces that make it easier to build LLM-centric applications, allowing you to focus on the core functionality rather than the complexities of integrating language models.\n",
        "\n",
        "To build our RAG systen, we will first store the IMDb dataset into a local CSV file to ensure it is in format we can pass to LangChain.\n"
      ]
    },
    {
      "cell_type": "code",
      "execution_count": 2,
      "metadata": {
        "colab": {
          "base_uri": "https://localhost:8080/",
          "height": 67,
          "referenced_widgets": [
            "b879d43736e84d2fbb526c449efd494d",
            "81bb02a0682c47cd9e9e2d2527a1b270",
            "b5b20d0e5f9344f487f178e18dda2bad",
            "452aa35b398b43e495a1fc80abea4f50",
            "80132dee5e2c4f0fbd46a75ec3faec95",
            "336faf1d92fa40829f24ae36a2de981c",
            "b799214aba504e4d86a5e1610a02275a",
            "c7dccee9019548fba5c24edcaf0e6893",
            "2ac5e24035294dc3a752065abe4bf35c",
            "ea108d27beb24a87b96e8777f11a9415",
            "8b4f18b0c272492c8db59092329dcfc2"
          ]
        },
        "id": "ablTj7b4oqwP",
        "outputId": "8ee9b2c6-b55f-420c-e19c-fc6bd9bc0c6b"
      },
      "outputs": [
        {
          "name": "stderr",
          "output_type": "stream",
          "text": [
            "Creating CSV from Arrow format: 100%|██████████| 7/7 [00:00<00:00, 58.62ba/s]\n"
          ]
        },
        {
          "data": {
            "text/plain": [
              "10753100"
            ]
          },
          "execution_count": 2,
          "metadata": {},
          "output_type": "execute_result"
        }
      ],
      "source": [
        "dataset_dict = dataset\n",
        "dataset_dict.to_csv(\"../data/imdb.csv\") # TODO - what method do we have to use to store imdb.csv from ShubhamChoksi/IMDB_Movies?"
      ]
    },
    {
      "cell_type": "markdown",
      "metadata": {
        "id": "5Oy5YzHgYI1x"
      },
      "source": [
        "# [Optional] 💻 Write the IMDd CSV data into a Pandas DataFrame\n",
        "\n",
        "\n",
        "Pandas is a powerful open-source Python library for data manipulation and analysis.\n",
        "\n",
        "It provides two main data structures:\n",
        "* DataFrame\n",
        "  * A two-dimensional, size-mutable, potentially heterogeneous tabular data structure with labeled axes (rows and columns)\n",
        "* Series\n",
        "  * A one-dimensional labeled array capable of holding data of any data type.\n",
        "\n",
        "The DataFrame is the primary and most widely used data structure in Pandas. It is similar to a spreadsheet or a SQL table, with rows and columns.\n",
        "\n",
        "Each column in a DataFrame can have a different data type, making it a flexible and powerful tool for working with diverse data.\n",
        "\n",
        "We don't **need** to use a DataFrame for this example because we can convert the `dataset` to a CSV using `to_csv`. However, you will likely encounter a DataFrame while processing data for LLM applications, so we want to briefly introduce it here.\n",
        "\n",
        "[Pandas DataFrame Documentation](https://pandas.pydata.org/docs/reference/io.html)"
      ]
    },
    {
      "cell_type": "code",
      "execution_count": 3,
      "metadata": {
        "colab": {
          "base_uri": "https://localhost:8080/",
          "height": 206
        },
        "id": "iaM38kzZT51N",
        "outputId": "759222e6-51b9-4342-e9c1-fa77e65c4039"
      },
      "outputs": [
        {
          "data": {
            "text/html": [
              "<div>\n",
              "<style scoped>\n",
              "    .dataframe tbody tr th:only-of-type {\n",
              "        vertical-align: middle;\n",
              "    }\n",
              "\n",
              "    .dataframe tbody tr th {\n",
              "        vertical-align: top;\n",
              "    }\n",
              "\n",
              "    .dataframe thead th {\n",
              "        text-align: right;\n",
              "    }\n",
              "</style>\n",
              "<table border=\"1\" class=\"dataframe\">\n",
              "  <thead>\n",
              "    <tr style=\"text-align: right;\">\n",
              "      <th></th>\n",
              "      <th>Name</th>\n",
              "      <th>rating</th>\n",
              "      <th>No_of_ratings</th>\n",
              "      <th>user</th>\n",
              "      <th>critics</th>\n",
              "      <th>Movie_Info</th>\n",
              "    </tr>\n",
              "  </thead>\n",
              "  <tbody>\n",
              "    <tr>\n",
              "      <th>0</th>\n",
              "      <td>First Knight</td>\n",
              "      <td>6.0</td>\n",
              "      <td>77K</td>\n",
              "      <td>226</td>\n",
              "      <td>54.0</td>\n",
              "      <td>Mel Gibson was attached to this project at one...</td>\n",
              "    </tr>\n",
              "    <tr>\n",
              "      <th>1</th>\n",
              "      <td>First Man</td>\n",
              "      <td>7.3</td>\n",
              "      <td>198K</td>\n",
              "      <td>1.4K</td>\n",
              "      <td>496.0</td>\n",
              "      <td>Mark Armstrong and Rick Armstrong said that th...</td>\n",
              "    </tr>\n",
              "    <tr>\n",
              "      <th>2</th>\n",
              "      <td>First Man into Space</td>\n",
              "      <td>5.4</td>\n",
              "      <td>1.7K</td>\n",
              "      <td>40</td>\n",
              "      <td>31.0</td>\n",
              "      <td>The pilot in the stock footage sequences is Ch...</td>\n",
              "    </tr>\n",
              "    <tr>\n",
              "      <th>3</th>\n",
              "      <td>First of May</td>\n",
              "      <td>6.8</td>\n",
              "      <td>454</td>\n",
              "      <td>13</td>\n",
              "      <td>3.0</td>\n",
              "      <td>Charles Nelson Reilly survived the worst circu...</td>\n",
              "    </tr>\n",
              "    <tr>\n",
              "      <th>4</th>\n",
              "      <td>The First of May</td>\n",
              "      <td>6.8</td>\n",
              "      <td>454</td>\n",
              "      <td>13</td>\n",
              "      <td>3.0</td>\n",
              "      <td>Charles Nelson Reilly survived the worst circu...</td>\n",
              "    </tr>\n",
              "  </tbody>\n",
              "</table>\n",
              "</div>"
            ],
            "text/plain": [
              "                   Name  rating No_of_ratings  user  critics  \\\n",
              "0          First Knight     6.0           77K   226     54.0   \n",
              "1             First Man     7.3          198K  1.4K    496.0   \n",
              "2  First Man into Space     5.4          1.7K    40     31.0   \n",
              "3          First of May     6.8           454    13      3.0   \n",
              "4      The First of May     6.8           454    13      3.0   \n",
              "\n",
              "                                          Movie_Info  \n",
              "0  Mel Gibson was attached to this project at one...  \n",
              "1  Mark Armstrong and Rick Armstrong said that th...  \n",
              "2  The pilot in the stock footage sequences is Ch...  \n",
              "3  Charles Nelson Reilly survived the worst circu...  \n",
              "4  Charles Nelson Reilly survived the worst circu...  "
            ]
          },
          "execution_count": 3,
          "metadata": {},
          "output_type": "execute_result"
        }
      ],
      "source": [
        "import pandas as pd # the Colab runtime will already have this library installed - no need to `pip install`\n",
        "\n",
        "movies_dataframe = pd.read_csv(\"../data/imdb.csv\") # TODO: How do we read imdb.csv as a dataframe?\n",
        "\n",
        "movies_dataframe.head() # TODO: What method can we call to ensure we have actually loaded data?"
      ]
    },
    {
      "cell_type": "markdown",
      "metadata": {
        "id": "jvKlXeJjaT5-"
      },
      "source": [
        "# 💻 Install LangChain"
      ]
    },
    {
      "cell_type": "code",
      "execution_count": 4,
      "metadata": {
        "colab": {
          "base_uri": "https://localhost:8080/"
        },
        "id": "kvnwHb8oQcYn",
        "outputId": "9e546da0-1861-4f92-b531-363e9299f236"
      },
      "outputs": [
        {
          "name": "stdout",
          "output_type": "stream",
          "text": [
            "Note: you may need to restart the kernel to use updated packages.\n"
          ]
        }
      ],
      "source": [
        "%pip install -q -U langchain"
      ]
    },
    {
      "cell_type": "markdown",
      "metadata": {
        "id": "mJtt79aIl1kw"
      },
      "source": [
        "[LangChain Document Loaders documentation](https://python.langchain.com/docs/integrations/document_loaders/)"
      ]
    },
    {
      "cell_type": "code",
      "execution_count": 4,
      "metadata": {
        "colab": {
          "base_uri": "https://localhost:8080/"
        },
        "id": "0gOZGO-napjo",
        "outputId": "4c2490a8-7914-4d83-c369-73a45f547e4f"
      },
      "outputs": [
        {
          "data": {
            "text/plain": [
              "6591"
            ]
          },
          "execution_count": 4,
          "metadata": {},
          "output_type": "execute_result"
        }
      ],
      "source": [
        "from langchain.document_loaders import CSVLoader # TODO: What do we have to import to load our imdb.csv file?\n",
        "\n",
        "loader = CSVLoader(file_path=\"../data/imdb.csv\") # TODO\n",
        "data = loader.load() # TODO\n",
        "\n",
        "len(data) # ensure we have actually loaded data into a format LangChain can recognize"
      ]
    },
    {
      "cell_type": "markdown",
      "metadata": {
        "id": "5ftwvT17bV20"
      },
      "source": [
        "# 💻 Chunk the loaded data to improve retrieval performance\n",
        "\n",
        "In a RAG system, the model needs to be able to quickly and accurately retrieve relevant information from a knowledge base or other data sources to assist in generating high-quality responses. However, working with large, unstructured datasets can be computationally expensive and time-consuming, especially during the retrieval process.\n",
        "\n",
        "By splitting the data into these smaller, overlapping chunks, the RAG system can more efficiently search and retrieve the most relevant information to include in the generated response. This can lead to improved performance, as the model doesn't have to process the entire dataset at once, and can focus on the most relevant parts of the data.\n",
        "\n",
        "[LangChain `RecursiveCharacterTextSplitter` documentation](https://sj-langchain.readthedocs.io/en/latest/text_splitter/langchain.text_splitter.RecursiveCharacterTextSplitter.html)\n"
      ]
    },
    {
      "cell_type": "code",
      "execution_count": 5,
      "metadata": {
        "colab": {
          "base_uri": "https://localhost:8080/"
        },
        "id": "NPha0yPTbeYm",
        "outputId": "a0cb3b0e-4f86-4f1e-98f3-d6ffbe884b0f"
      },
      "outputs": [
        {
          "data": {
            "text/plain": [
              "19077"
            ]
          },
          "execution_count": 5,
          "metadata": {},
          "output_type": "execute_result"
        }
      ],
      "source": [
        "from langchain.text_splitter import RecursiveCharacterTextSplitter\n",
        "\n",
        "text_splitter = RecursiveCharacterTextSplitter(\n",
        "    # TODO: How do we create a text splitter with 1000 character chunks and 100 character overlap?\n",
        "    chunk_size = 1000,\n",
        "    chunk_overlap = 100\n",
        ")\n",
        "\n",
        "chunked_documents = text_splitter.split_documents(data) # TODO: How do we chunk the data?\n",
        "\n",
        "len(chunked_documents) # ensure we have actually split the data into chunks"
      ]
    },
    {
      "cell_type": "markdown",
      "metadata": {
        "id": "iE4FxfUH0yYn"
      },
      "source": [
        "# 💻 Build a way for your RAG system to understand the relationship between words and their meanings\n",
        "\n",
        "You can think of embeddings as secret codes that capture the essence of words, allowing your system to understand their true meanings and relationships. This semantic understanding is crucial for the system to provide precise and contextually relevant answers.\n",
        "\n",
        "Embeddings are represented as dense, continuous vectors in a high-dimensional space and serve as a semantic map that guides your RAG system to the most relevant answers.\n",
        "\n",
        "A good analogy is a compass: embeddings help your system navigates throgugh a vast sea of information, delivering accurate and contextual responses to user queries."
      ]
    },
    {
      "cell_type": "markdown",
      "metadata": {
        "id": "0kNYdfNsDMss"
      },
      "source": [
        "# 💻 Use OpenAI embeddings to create a vector store\n",
        "\n",
        "The first step in creating a vector store is to create embeddings from the data that you want the RAG system to be able to retrieve.\n",
        "\n",
        "This is done using an embedding model, which transforms text data into a high-dimensional vector representation. Each piece of text (such as a document, paragraph, or sentence) is converted into a vector that captures its semantic meaning.\n",
        "\n",
        "For this exercise, we will use OpenAI's embedding model."
      ]
    },
    {
      "cell_type": "code",
      "execution_count": null,
      "metadata": {
        "colab": {
          "base_uri": "https://localhost:8080/"
        },
        "id": "iLeN2bNyDB_9",
        "outputId": "7c8bbc4d-d1a6-473b-b25a-49e634560fe5"
      },
      "outputs": [],
      "source": [
        "%pip install -q -U langchain-openai"
      ]
    },
    {
      "cell_type": "markdown",
      "metadata": {
        "id": "UA_GxbhqndW6"
      },
      "source": [
        "[LangChain `OpenAIEmbeddings` documentation](https://python.langchain.com/docs/integrations/text_embedding/openai/)"
      ]
    },
    {
      "cell_type": "code",
      "execution_count": 6,
      "metadata": {
        "id": "CsHbeB9kAzUg"
      },
      "outputs": [],
      "source": [
        "import os\n",
        "# from google.colab import userdata\n",
        "from langchain_openai import OpenAIEmbeddings\n",
        "\n",
        "from dotenv import load_dotenv\n",
        "load_dotenv('../.env')\n",
        "\n",
        "# openai_api_key = userdata.get(\"OPENAI_API_KEY\")\n",
        "openai_api_key = os.getenv(\"OPENAI_API_KEY\", \"\")\n",
        "embedding_model = OpenAIEmbeddings(model='text-embedding-3-large', openai_api_key=openai_api_key) # TODO: How do we create our embedding model?"
      ]
    },
    {
      "cell_type": "markdown",
      "metadata": {
        "id": "esSDGiKKDHWG"
      },
      "source": [
        "# 💻 Create embedder\n",
        "\n",
        "We will create our embedder using the `CacheBackedEmbeddings` class.\n",
        "\n",
        "This class is designed to optimize the process of generating embeddings by caching the results of expensive embedding computations.\n",
        "\n",
        "This caching mechanism prevents the need to recompute embeddings for the same text multiple times, which can be computationally expensive and time-consuming.\n",
        "\n",
        "[LangChain walkthrough of caching embeddings](https://python.langchain.com/docs/modules/data_connection/text_embedding/caching_embeddings/)\n",
        "\n",
        "[`CacheBackedEmbeddings` documentation](https://api.python.langchain.com/en/latest/embeddings/langchain.embeddings.cache.CacheBackedEmbeddings.html)"
      ]
    },
    {
      "cell_type": "code",
      "execution_count": 7,
      "metadata": {
        "id": "QzOXoiNtCtfj"
      },
      "outputs": [],
      "source": [
        "from langchain.embeddings import CacheBackedEmbeddings\n",
        "from langchain.storage import LocalFileStore\n",
        "\n",
        "store = LocalFileStore(\"./cache/\") # TODO: How do we create a local file store to for our cached embeddings?\n",
        "embedder = CacheBackedEmbeddings.from_bytes_store(\n",
        "    embedding_model, store, namespace=embedding_model.model\n",
        ")  # TODO: How do we create our embedder?"
      ]
    },
    {
      "cell_type": "markdown",
      "metadata": {
        "id": "c5VHXrWmDi31"
      },
      "source": [
        "# 💻 Create vector store using Facebook AI Similarity Search (FAISS)\n",
        "\n",
        "[FAISS](https://ai.meta.com/tools/faiss/) is specifically designed for efficient similarity search in large datasets of high-dimensional vectors.\n",
        "\n",
        "By using vector embeddings and storing them in a FAISS index, you can significantly reduce the computational cost associated with real-time embedding generation and similarity calculations.\n",
        "\n",
        "Retrieval from a FAISS index is much faster than linear search across high-dimensional vectors, speeding up the response time of the system.\n",
        "\n",
        "You may have also noticed that we save the vector store using [`LocalFileStore`](https://python.langchain.com/docs/integrations/stores/file_system/).\n",
        "\n",
        "Saving the vector store locally ensures that the embeddings are persistent across sessions, reducing the need to recompute embeddings and rebuild the index each time the system is used.\n",
        "\n",
        "[LangChain FAISS documentation](https://python.langchain.com/docs/integrations/vectorstores/faiss/)"
      ]
    },
    {
      "cell_type": "code",
      "execution_count": 12,
      "metadata": {
        "colab": {
          "base_uri": "https://localhost:8080/"
        },
        "id": "YARnRd1AEH17",
        "outputId": "f21b287e-1dd1-4c1d-fe75-02cd0bf6ab66"
      },
      "outputs": [
        {
          "name": "stdout",
          "output_type": "stream",
          "text": [
            "Note: you may need to restart the kernel to use updated packages.\n"
          ]
        }
      ],
      "source": [
        "%pip install -q faiss-cpu tiktoken"
      ]
    },
    {
      "cell_type": "code",
      "execution_count": 11,
      "metadata": {
        "id": "D-LoTQijDeH4"
      },
      "outputs": [],
      "source": [
        "from langchain_community.vectorstores import FAISS\n",
        "\n",
        "# vector_store = FAISS.from_documents(chunked_documents, embedder) # TODO: How do we create our vector store using FAISS?\n",
        "# vector_store.save_local('./store/faiss_index') # TODO: How do we save our vector store locally?\n",
        "\n",
        "# Load our vector store from disk\n",
        "# ValueError: The de-serialization relies loading a pickle file.\n",
        "#Pickle files can be modified to deliver a malicious payload that results in execution of arbitrary code on your machine.\n",
        "# You will need to set `allow_dangerous_deserialization` to `True` to enable deserialization.\n",
        "# If you do this, make sure that you trust the source of the data.\n",
        "# For example, if you are loading a file that you created, and no that no one else has modified the file,\n",
        "# then this is safe to do. Do not set this to `True` if you are loading a file from an untrusted source (e.g., some random site on the internet.).\n",
        "vector_store = FAISS.load_local('./store/faiss_index', embedder, allow_dangerous_deserialization=True)"
      ]
    },
    {
      "cell_type": "markdown",
      "metadata": {
        "id": "dIiHtK6zFlhj"
      },
      "source": [
        "# 💻 Ask your RAG system a question!\n",
        "\n",
        "Now that we have the embeddings for our chunked IMDb data saved locally in our vector store, we are ready to ask it a question.\n",
        "\n",
        "To accomplish this task, we first transform a question like \"What are some good sci-fi movies from the 1980s?\" into a vector representation using our embedding model.\n",
        "\n",
        "After that, we perform a similarity search to grab the relevant documents from our vector store.\n",
        "\n",
        "[LangChain Text Embedding Models documentation](https://python.langchain.com/docs/modules/data_connection/text_embedding/)\n",
        "\n",
        "[LangChain Vector Store documentation](https://python.langchain.com/docs/modules/data_connection/vectorstores/)"
      ]
    },
    {
      "cell_type": "code",
      "execution_count": 12,
      "metadata": {
        "colab": {
          "base_uri": "https://localhost:8080/"
        },
        "id": "gytzkfzZFpLD",
        "outputId": "5fa1b435-5e6d-4b98-a6fe-ea8d7c8025ae"
      },
      "outputs": [
        {
          "name": "stdout",
          "output_type": "stream",
          "text": [
            "1.0613569021224976: Movie_Info: The set dresser on this film was Bill Paxton, before he took to acting. He was employed by the film's Art Director, and future frequent collaborator, James Cameron.,When the captain engages the hyper-drive, she stands at the control panel. A montage of the crew members strapped into their seats follows, including the captain. When hyper-drive disengages a few seconds later, she is still standing at the control panel in exactly the same spot.,Quuhod: I live and die by the crystals.,End credits roll over the pyramid which glows blue as the wind can be heard blowing.,The 1986 UK Warner video release was cut by 14 secs by the BBFC to reduce the rape of Dameia by a giant maggot. The cuts were fully waived for the 2002 ILC DVD.,Edited into Not of This Earth (1988),A spacecraft travels to a distant planet to rescue the crew of another space ship that has crashed. The craft has damages in the landing and needs to be repaired. Baelon (Zalman King) commands the rescue team formed by\n",
            "1.0733981132507324: Because this was made in the eighties, all of us who like 'practical' effects, rather the computer-generated ones will have a blast at the fact that the brain slugs are beautifully animated and the aliens (for their albeit too small on-screen appearance) are up there with anything featured in 'Star Wars.' It's also quite a 'knowing' kind of film. Like 'Scream' did in the nineties, it - lovingly - mocks the genre it sits in and often nods towards the clichés you'd normally expect from film of this nature.\n",
            "\n",
            "If you like films full of ridiculous, cheesy black comedy horror, then definitely check this one out. I can't believe I've only just discovered it in 2020 (at least something good has come out of this year!).,\n",
            "1.0904632806777954: The idea of a time-traveling cyborg, sent by a group of freedom fighters to stop a scientist from developing an advanced technology, is familiar indeed! James Cameron simply must have seen this movie. Even the scene when Garth A7 shows a scientist the proof that he's a machine is extremely reminiscent of a similar revelation in Cameron's T2! Of course, this film had neither the astronomical budget, nor the advantage of a Cameron to direct it. In spite of this, CYBORG 2087 is a lot of fun to watch, and deserves to be rediscovered...,\n",
            "1.096827507019043: Name: Cyborg 2087\n",
            "rating: 5.2\n",
            "No_of_ratings: 628\n",
            "user: 25\n",
            "critics: 25.0\n",
            "Movie_Info: Has the same premise as The Terminator (1984), which was made almost 20 years later.,Before Garth A7's (Michael Rennie) time capsule appears in 1966, the grass in the distance is in bright sunlight and the foreground is in the dark shadow of a tree. An \"instant\" later, when the capsule appears, the tree shadow is gone and the entire scene is clearly overcast, showing that a significant portion of the day has actually passed.,Featured in WatchMojo: Top 10 Cyborgs in TV and Movies (2014),From the titular year, a cyborg called Garth A7 (Michael Rennie) is sent back in time to 1966 in order to stop an event that will lead to the subjugation of humanity. Garth A7 enlists the help of humans, while two super-soldiers from 2087 arrive to eliminate him.\n"
          ]
        }
      ],
      "source": [
        "query = \"What are some good sci-fi movies from the 1980s?\"\n",
        "\n",
        "embedded_query = embedder.embed_query(query) # TODO: How do we embed our query?\n",
        "# print(embedded_query)\n",
        "# TODO: How do we do a similarity search to find documents similar to our query?\n",
        "similar_documents_with_score = vector_store.similarity_search_with_score_by_vector(\n",
        "    embedded_query)\n",
        "\n",
        "for page, score in similar_documents_with_score:\n",
        "  # TODO: Print the similar documents that the similarity search returns?\n",
        "  print(f'{score}: {page.page_content}')"
      ]
    },
    {
      "cell_type": "markdown",
      "metadata": {
        "id": "CLZ3uCQWLwuZ"
      },
      "source": [
        "# 💻 Combine the retrieved data with the output of the LLM using [`Runnable`](https://python.langchain.com/docs/expression_language/interface/) interface\n",
        "\n",
        "To understand the Runnable interface in [LangChain]((https://python.langchain.com/docs/expression_language/interface/)), let's use the analogy of a kitchen staff in a restaurant.\n",
        "\n",
        "In a kitchen, you have different chefs who specialize in various tasks—there's a pastry chef, a grill chef, a sauce chef, and so on.\n",
        "\n",
        "Each chef is responsible for preparing a specific part of the meal, and they must work in a certain order to ensure the dish comes out correctly.\n",
        "\n",
        "The head chef oversees the process, ensuring that each part is ready at the right time and that everything comes together in the end.\n",
        "\n",
        "In this analogy:\n",
        "* Each chef represents a component in LangChain that implements the Runnable interface.\n",
        "* The dish being prepared is the final output from the LangChain system, such as an answer to a user's question.\n",
        "* The head chef is like the LangChain framework, which coordinates the execution of each Runnable component.\n",
        "\n",
        "## Preparing a Multi-Course Meal\n",
        "\n",
        "We are using LangChain to build a system that answers questions about movies.\n",
        "\n",
        "We will have a sequence of Runnables that:\n",
        "\n",
        "1. Retrieves documents related to the query (like finding the right ingredients)\n",
        "2. Parses the documents to extract relevant information (like prepping the ingredients)\n",
        "3. Generates a response based on the information (like cooking the ingredients to create a dish)\n"
      ]
    },
    {
      "cell_type": "markdown",
      "metadata": {
        "id": "fgdN8lNIKkm7"
      },
      "source": [
        "# 💻 Create the components (chefs)"
      ]
    },
    {
      "cell_type": "code",
      "execution_count": null,
      "metadata": {
        "id": "UOeC5PZMHYys"
      },
      "outputs": [],
      "source": [
        "%pip install -q langchain_openai"
      ]
    },
    {
      "cell_type": "markdown",
      "metadata": {
        "id": "-qgDNM-9polW"
      },
      "source": [
        "[LangChain ChatPromptTemplate quick reference](https://python.langchain.com/docs/modules/model_io/prompts/quick_start/)\n",
        "\n",
        "[LangChain `VectorStoreRetriever` documentation](https://python.langchain.com/docs/modules/data_connection/retrievers/vectorstore/)\n",
        "\n",
        "[LangChain `ChatOpenAI` documentation](https://python.langchain.com/docs/integrations/chat/openai/)\n",
        "\n",
        "[LangChain `StrOutputParser` documentation](https://api.python.langchain.com/en/latest/output_parsers/langchain_core.output_parsers.string.StrOutputParser.html)"
      ]
    },
    {
      "cell_type": "code",
      "execution_count": 26,
      "metadata": {
        "id": "IuevOfIKKDWD"
      },
      "outputs": [],
      "source": [
        "from langchain_core.runnables.base import RunnableSequence\n",
        "from langchain_core.runnables.passthrough import RunnablePassthrough\n",
        "from langchain_core.output_parsers import StrOutputParser\n",
        "from langchain_core.prompts import ChatPromptTemplate\n",
        "from langchain_openai import ChatOpenAI\n",
        "\n",
        "# Create the components (chefs)\n",
        "# TODO: How do we create a prompt template to send to our LLM that will incorporate the documents from our retriever with the question we ask the chat model?\n",
        "prompt_template = ChatPromptTemplate.from_messages([\n",
        "    (\"system\", f\"You are a movie recommendation chatbot.\"),\n",
        "    (\"user\", \"Given the {context}, answer the following question: {question}\"),\n",
        "])\n",
        "\n",
        "# TODO: How to we create a retriever for our documents?\n",
        "# as_retriever(search_type=\"similarity_score_threshold\", search_kwargs={\"score_threshold\": 0.5})\n",
        "# as_retriever(search_type=\"mmr\")\n",
        "retriever = vector_store.as_retriever()\n",
        "\n",
        "chat_model = ChatOpenAI(name='Movie Recommendation Bot',\n",
        "                        api_key=openai_api_key,\n",
        "                        # cache=True,\n",
        "                        temperature=0.7,\n",
        "                        verbose=True)  # TODO: How do we create a chat model / LLM?\n",
        "\n",
        "parser = StrOutputParser() # TODO: How do we create a parser to parse the output of our LLM?"
      ]
    },
    {
      "cell_type": "markdown",
      "metadata": {
        "id": "ay_KJntVD0RX"
      },
      "source": [
        "# 💻 Create the sequence (recipe)"
      ]
    },
    {
      "cell_type": "markdown",
      "metadata": {
        "id": "WR70Udy2tEbo"
      },
      "source": [
        "[LangChain Runnable interface documentation](https://python.langchain.com/docs/expression_language/interface/)"
      ]
    },
    {
      "cell_type": "code",
      "execution_count": 27,
      "metadata": {
        "id": "ONZdKS_CKrVV"
      },
      "outputs": [
        {
          "name": "stdout",
          "output_type": "stream",
          "text": [
            "{'title': 'RunnableParallel<context,question>Input', 'type': 'string'}\n",
            "{'title': 'StrOutputParserOutput', 'type': 'string'}\n"
          ]
        }
      ],
      "source": [
        "runnable_chain = RunnableSequence(\n",
        "    # TODO: How do we chain the output of our retriever, prompt, model and model output parser so that we can get a good answer to our query?\n",
        "    {\"context\": retriever, \"question\": RunnablePassthrough(\n",
        "    )} | prompt_template | chat_model | parser\n",
        ")\n",
        "\n",
        "print(runnable_chain.input_schema.schema())  # Show inferred input schema\n",
        "print(runnable_chain.output_schema.schema())  # Show inferred output schema"
      ]
    },
    {
      "cell_type": "markdown",
      "metadata": {
        "id": "1hTqRvmyKVUp"
      },
      "source": [
        "# 💻 Execute the sequence (prepare the meal)"
      ]
    },
    {
      "cell_type": "code",
      "execution_count": 28,
      "metadata": {
        "colab": {
          "base_uri": "https://localhost:8080/"
        },
        "id": "UsljoHZLKuD1",
        "outputId": "25f1f5fa-29e0-4a69-c562-cf3056afc33e"
      },
      "outputs": [
        {
          "name": "stdout",
          "output_type": "stream",
          "text": [
            "Some good sci-fi movies from the 1980s that you might enjoy are:\n",
            "\n",
            "1. \"Aliens\" (1986) - Directed by James Cameron, this film continues the story of Ellen Ripley as she returns to the planet where she first encountered the deadly alien creatures.\n",
            "   \n",
            "2. \"Blade Runner\" (1982) - Directed by Ridley Scott, this film is a neo-noir sci-fi classic that explores themes of artificial intelligence and humanity.\n",
            "\n",
            "3. \"The Terminator\" (1984) - Directed by James Cameron, this film features a time-traveling cyborg sent to the past to assassinate a key figure in a future war.\n",
            "\n",
            "4. \"Back to the Future\" (1985) - Directed by Robert Zemeckis, this film follows the adventures of Marty McFly as he travels through time in a DeLorean with the help of eccentric scientist Doc Brown.\n",
            "\n",
            "5. \"Star Wars: Episode V - The Empire Strikes Back\" (1980) - Directed by Irvin Kershner, this film is the second installment in the original Star Wars trilogy and is considered one of the best in the series.\n",
            "\n",
            "These are just a few examples of great sci-fi movies from the 1980s that have stood the test of time and continue to be beloved by audiences.\n"
          ]
        }
      ],
      "source": [
        "# Synchronous execution\n",
        "# TODO: How do we execute our chain?\n",
        "output_chunks = runnable_chain.invoke(\n",
        "    'What are some good sci-fi movies from the 1980s?')\n",
        "print(''.join(output_chunks))"
      ]
    },
    {
      "cell_type": "code",
      "execution_count": 37,
      "metadata": {},
      "outputs": [
        {
          "name": "stdout",
          "output_type": "stream",
          "text": [
            "Some Batman movies that were released in 2020 include \"The Batman.\"\n"
          ]
        }
      ],
      "source": [
        "output_chunks_2 = runnable_chain.stream(\n",
        "    'What are some batman movies that were released in 2020?'\n",
        ")\n",
        "\n",
        "print(''.join(output_chunks_2))"
      ]
    },
    {
      "cell_type": "code",
      "execution_count": 30,
      "metadata": {},
      "outputs": [
        {
          "name": "stdout",
          "output_type": "stream",
          "text": [
            "Based on the information provided, it seems like you are asking if \"The Answer Man\" is the correct answer. Yes, \"The Answer Man\" is a movie that matches the details you provided. It has a rating of 6.4, with a significant number of ratings from both users and critics. The movie's screenplay was featured in the 2007 Blacklist, and it explores themes of self-discovery and personal growth. If you are looking for a movie recommendation based on this information, \"The Answer Man\" could be a good choice for you.\n"
          ]
        }
      ],
      "source": [
        "output_chunks_3 = runnable_chain.invoke(\n",
        "    'Are you sure that is the correct answer?'\n",
        ")\n",
        "\n",
        "print(''.join(output_chunks_3))"
      ]
    },
    {
      "cell_type": "code",
      "execution_count": 34,
      "metadata": {
        "colab": {
          "base_uri": "https://localhost:8080/"
        },
        "id": "wTGmekLkD2SP",
        "outputId": "e924089d-8930-4d2e-a54c-67a11da08c0e"
      },
      "outputs": [
        {
          "name": "stdout",
          "output_type": "stream",
          "text": [
            "\n",
            "Some\n",
            " Batman\n",
            " movies\n",
            " that\n",
            " were\n",
            " released\n",
            " in\n",
            " \n",
            "202\n",
            "0\n",
            " include\n",
            " \"\n",
            "The\n",
            " Batman\n",
            ".\"\n",
            "\n"
          ]
        }
      ],
      "source": [
        "# Asynchronous execution (e.g., for a better a chatbot user experience)\n",
        "import asyncio\n",
        "\n",
        "output_stream = runnable_chain.astream('What are some batman movies that were released in 2020?') # TODO: How do we execute our chain asynchronously?\n",
        "\n",
        "async for chunk in output_stream:\n",
        "  print(chunk, sep='', flush=True)"
      ]
    },
    {
      "cell_type": "markdown",
      "metadata": {
        "id": "pgY5luS2Mm8_"
      },
      "source": [
        "# 🎉 Congratulations on Completing Your Project!\n",
        "\n",
        "You have successfully built a Retrieval Augmented Generation (RAG) question answering system for movie recommendations using the IMDb dataset.\n",
        "\n",
        "This system allows users to interactively ask questions about movies, and it retrieves relevant information to provide insightful answers.\n",
        "\n",
        "Great job on reaching this milestone!\n",
        "\n",
        "From here, we can move on to our [Week 2: Introduction to Retrieval-Augmented Generation (RAG) Experiment Notebook](https://colab.research.google.com/drive/1pyzWvYDCKEmORN_yIsKwki6BQ5I9kXWK#scrollTo=Grd0XoS-tLgs)."
      ]
    },
    {
      "cell_type": "markdown",
      "metadata": {
        "id": "vCZSmhWrxMyA"
      },
      "source": [
        "# 📝 Submission\n",
        "\n",
        "Submit your experiment notebook for Week 2 using the form [here](https://docs.google.com/forms/d/1l935d2L3YN3Kj3ovNf3CKWB2EyxvDMkYY_sYte-NYWI/edit).\n",
        "\n",
        "Please make sure sharing permissions are turned on for everyone with the link.\n"
      ]
    }
  ],
  "metadata": {
    "accelerator": "GPU",
    "colab": {
      "gpuType": "T4",
      "machine_shape": "hm",
      "provenance": []
    },
    "kernelspec": {
      "display_name": "Python 3",
      "name": "python3"
    },
    "language_info": {
      "codemirror_mode": {
        "name": "ipython",
        "version": 3
      },
      "file_extension": ".py",
      "mimetype": "text/x-python",
      "name": "python",
      "nbconvert_exporter": "python",
      "pygments_lexer": "ipython3",
      "version": "3.11.9"
    },
    "widgets": {
      "application/vnd.jupyter.widget-state+json": {
        "004e5bb19ebc4191b83b02237bc8bc83": {
          "model_module": "@jupyter-widgets/base",
          "model_module_version": "1.2.0",
          "model_name": "LayoutModel",
          "state": {
            "_model_module": "@jupyter-widgets/base",
            "_model_module_version": "1.2.0",
            "_model_name": "LayoutModel",
            "_view_count": null,
            "_view_module": "@jupyter-widgets/base",
            "_view_module_version": "1.2.0",
            "_view_name": "LayoutView",
            "align_content": null,
            "align_items": null,
            "align_self": null,
            "border": null,
            "bottom": null,
            "display": null,
            "flex": null,
            "flex_flow": null,
            "grid_area": null,
            "grid_auto_columns": null,
            "grid_auto_flow": null,
            "grid_auto_rows": null,
            "grid_column": null,
            "grid_gap": null,
            "grid_row": null,
            "grid_template_areas": null,
            "grid_template_columns": null,
            "grid_template_rows": null,
            "height": null,
            "justify_content": null,
            "justify_items": null,
            "left": null,
            "margin": null,
            "max_height": null,
            "max_width": null,
            "min_height": null,
            "min_width": null,
            "object_fit": null,
            "object_position": null,
            "order": null,
            "overflow": null,
            "overflow_x": null,
            "overflow_y": null,
            "padding": null,
            "right": null,
            "top": null,
            "visibility": null,
            "width": null
          }
        },
        "0568abfe1ece43f69d4b8dfbbd84a4bf": {
          "model_module": "@jupyter-widgets/base",
          "model_module_version": "1.2.0",
          "model_name": "LayoutModel",
          "state": {
            "_model_module": "@jupyter-widgets/base",
            "_model_module_version": "1.2.0",
            "_model_name": "LayoutModel",
            "_view_count": null,
            "_view_module": "@jupyter-widgets/base",
            "_view_module_version": "1.2.0",
            "_view_name": "LayoutView",
            "align_content": null,
            "align_items": null,
            "align_self": null,
            "border": null,
            "bottom": null,
            "display": null,
            "flex": null,
            "flex_flow": null,
            "grid_area": null,
            "grid_auto_columns": null,
            "grid_auto_flow": null,
            "grid_auto_rows": null,
            "grid_column": null,
            "grid_gap": null,
            "grid_row": null,
            "grid_template_areas": null,
            "grid_template_columns": null,
            "grid_template_rows": null,
            "height": null,
            "justify_content": null,
            "justify_items": null,
            "left": null,
            "margin": null,
            "max_height": null,
            "max_width": null,
            "min_height": null,
            "min_width": null,
            "object_fit": null,
            "object_position": null,
            "order": null,
            "overflow": null,
            "overflow_x": null,
            "overflow_y": null,
            "padding": null,
            "right": null,
            "top": null,
            "visibility": null,
            "width": null
          }
        },
        "0e41beaba551406e8081f7982783b8ff": {
          "model_module": "@jupyter-widgets/controls",
          "model_module_version": "1.5.0",
          "model_name": "ProgressStyleModel",
          "state": {
            "_model_module": "@jupyter-widgets/controls",
            "_model_module_version": "1.5.0",
            "_model_name": "ProgressStyleModel",
            "_view_count": null,
            "_view_module": "@jupyter-widgets/base",
            "_view_module_version": "1.2.0",
            "_view_name": "StyleView",
            "bar_color": null,
            "description_width": ""
          }
        },
        "2408d1a68fe444888d17a5aed474e4f3": {
          "model_module": "@jupyter-widgets/base",
          "model_module_version": "1.2.0",
          "model_name": "LayoutModel",
          "state": {
            "_model_module": "@jupyter-widgets/base",
            "_model_module_version": "1.2.0",
            "_model_name": "LayoutModel",
            "_view_count": null,
            "_view_module": "@jupyter-widgets/base",
            "_view_module_version": "1.2.0",
            "_view_name": "LayoutView",
            "align_content": null,
            "align_items": null,
            "align_self": null,
            "border": null,
            "bottom": null,
            "display": null,
            "flex": null,
            "flex_flow": null,
            "grid_area": null,
            "grid_auto_columns": null,
            "grid_auto_flow": null,
            "grid_auto_rows": null,
            "grid_column": null,
            "grid_gap": null,
            "grid_row": null,
            "grid_template_areas": null,
            "grid_template_columns": null,
            "grid_template_rows": null,
            "height": null,
            "justify_content": null,
            "justify_items": null,
            "left": null,
            "margin": null,
            "max_height": null,
            "max_width": null,
            "min_height": null,
            "min_width": null,
            "object_fit": null,
            "object_position": null,
            "order": null,
            "overflow": null,
            "overflow_x": null,
            "overflow_y": null,
            "padding": null,
            "right": null,
            "top": null,
            "visibility": null,
            "width": null
          }
        },
        "2a91a0a0debf4f30a5b377599f483588": {
          "model_module": "@jupyter-widgets/controls",
          "model_module_version": "1.5.0",
          "model_name": "DescriptionStyleModel",
          "state": {
            "_model_module": "@jupyter-widgets/controls",
            "_model_module_version": "1.5.0",
            "_model_name": "DescriptionStyleModel",
            "_view_count": null,
            "_view_module": "@jupyter-widgets/base",
            "_view_module_version": "1.2.0",
            "_view_name": "StyleView",
            "description_width": ""
          }
        },
        "2ac5e24035294dc3a752065abe4bf35c": {
          "model_module": "@jupyter-widgets/controls",
          "model_module_version": "1.5.0",
          "model_name": "ProgressStyleModel",
          "state": {
            "_model_module": "@jupyter-widgets/controls",
            "_model_module_version": "1.5.0",
            "_model_name": "ProgressStyleModel",
            "_view_count": null,
            "_view_module": "@jupyter-widgets/base",
            "_view_module_version": "1.2.0",
            "_view_name": "StyleView",
            "bar_color": null,
            "description_width": ""
          }
        },
        "2d97174b8c36477d840b295bc0e1ae21": {
          "model_module": "@jupyter-widgets/controls",
          "model_module_version": "1.5.0",
          "model_name": "DescriptionStyleModel",
          "state": {
            "_model_module": "@jupyter-widgets/controls",
            "_model_module_version": "1.5.0",
            "_model_name": "DescriptionStyleModel",
            "_view_count": null,
            "_view_module": "@jupyter-widgets/base",
            "_view_module_version": "1.2.0",
            "_view_name": "StyleView",
            "description_width": ""
          }
        },
        "336faf1d92fa40829f24ae36a2de981c": {
          "model_module": "@jupyter-widgets/base",
          "model_module_version": "1.2.0",
          "model_name": "LayoutModel",
          "state": {
            "_model_module": "@jupyter-widgets/base",
            "_model_module_version": "1.2.0",
            "_model_name": "LayoutModel",
            "_view_count": null,
            "_view_module": "@jupyter-widgets/base",
            "_view_module_version": "1.2.0",
            "_view_name": "LayoutView",
            "align_content": null,
            "align_items": null,
            "align_self": null,
            "border": null,
            "bottom": null,
            "display": null,
            "flex": null,
            "flex_flow": null,
            "grid_area": null,
            "grid_auto_columns": null,
            "grid_auto_flow": null,
            "grid_auto_rows": null,
            "grid_column": null,
            "grid_gap": null,
            "grid_row": null,
            "grid_template_areas": null,
            "grid_template_columns": null,
            "grid_template_rows": null,
            "height": null,
            "justify_content": null,
            "justify_items": null,
            "left": null,
            "margin": null,
            "max_height": null,
            "max_width": null,
            "min_height": null,
            "min_width": null,
            "object_fit": null,
            "object_position": null,
            "order": null,
            "overflow": null,
            "overflow_x": null,
            "overflow_y": null,
            "padding": null,
            "right": null,
            "top": null,
            "visibility": null,
            "width": null
          }
        },
        "3cc5c62f003b4394b8aa4b7fb73f115a": {
          "model_module": "@jupyter-widgets/base",
          "model_module_version": "1.2.0",
          "model_name": "LayoutModel",
          "state": {
            "_model_module": "@jupyter-widgets/base",
            "_model_module_version": "1.2.0",
            "_model_name": "LayoutModel",
            "_view_count": null,
            "_view_module": "@jupyter-widgets/base",
            "_view_module_version": "1.2.0",
            "_view_name": "LayoutView",
            "align_content": null,
            "align_items": null,
            "align_self": null,
            "border": null,
            "bottom": null,
            "display": null,
            "flex": null,
            "flex_flow": null,
            "grid_area": null,
            "grid_auto_columns": null,
            "grid_auto_flow": null,
            "grid_auto_rows": null,
            "grid_column": null,
            "grid_gap": null,
            "grid_row": null,
            "grid_template_areas": null,
            "grid_template_columns": null,
            "grid_template_rows": null,
            "height": null,
            "justify_content": null,
            "justify_items": null,
            "left": null,
            "margin": null,
            "max_height": null,
            "max_width": null,
            "min_height": null,
            "min_width": null,
            "object_fit": null,
            "object_position": null,
            "order": null,
            "overflow": null,
            "overflow_x": null,
            "overflow_y": null,
            "padding": null,
            "right": null,
            "top": null,
            "visibility": null,
            "width": null
          }
        },
        "43f72028c1584b57a434b0558c1eac5c": {
          "model_module": "@jupyter-widgets/controls",
          "model_module_version": "1.5.0",
          "model_name": "DescriptionStyleModel",
          "state": {
            "_model_module": "@jupyter-widgets/controls",
            "_model_module_version": "1.5.0",
            "_model_name": "DescriptionStyleModel",
            "_view_count": null,
            "_view_module": "@jupyter-widgets/base",
            "_view_module_version": "1.2.0",
            "_view_name": "StyleView",
            "description_width": ""
          }
        },
        "452aa35b398b43e495a1fc80abea4f50": {
          "model_module": "@jupyter-widgets/controls",
          "model_module_version": "1.5.0",
          "model_name": "HTMLModel",
          "state": {
            "_dom_classes": [],
            "_model_module": "@jupyter-widgets/controls",
            "_model_module_version": "1.5.0",
            "_model_name": "HTMLModel",
            "_view_count": null,
            "_view_module": "@jupyter-widgets/controls",
            "_view_module_version": "1.5.0",
            "_view_name": "HTMLView",
            "description": "",
            "description_tooltip": null,
            "layout": "IPY_MODEL_ea108d27beb24a87b96e8777f11a9415",
            "placeholder": "​",
            "style": "IPY_MODEL_8b4f18b0c272492c8db59092329dcfc2",
            "value": " 7/7 [00:00&lt;00:00, 23.43ba/s]"
          }
        },
        "505c5e5998b94bdd8b148421301caf9e": {
          "model_module": "@jupyter-widgets/base",
          "model_module_version": "1.2.0",
          "model_name": "LayoutModel",
          "state": {
            "_model_module": "@jupyter-widgets/base",
            "_model_module_version": "1.2.0",
            "_model_name": "LayoutModel",
            "_view_count": null,
            "_view_module": "@jupyter-widgets/base",
            "_view_module_version": "1.2.0",
            "_view_name": "LayoutView",
            "align_content": null,
            "align_items": null,
            "align_self": null,
            "border": null,
            "bottom": null,
            "display": null,
            "flex": null,
            "flex_flow": null,
            "grid_area": null,
            "grid_auto_columns": null,
            "grid_auto_flow": null,
            "grid_auto_rows": null,
            "grid_column": null,
            "grid_gap": null,
            "grid_row": null,
            "grid_template_areas": null,
            "grid_template_columns": null,
            "grid_template_rows": null,
            "height": null,
            "justify_content": null,
            "justify_items": null,
            "left": null,
            "margin": null,
            "max_height": null,
            "max_width": null,
            "min_height": null,
            "min_width": null,
            "object_fit": null,
            "object_position": null,
            "order": null,
            "overflow": null,
            "overflow_x": null,
            "overflow_y": null,
            "padding": null,
            "right": null,
            "top": null,
            "visibility": null,
            "width": null
          }
        },
        "5631c14d92fb4ea8bd3f0326e23ed7ba": {
          "model_module": "@jupyter-widgets/controls",
          "model_module_version": "1.5.0",
          "model_name": "DescriptionStyleModel",
          "state": {
            "_model_module": "@jupyter-widgets/controls",
            "_model_module_version": "1.5.0",
            "_model_name": "DescriptionStyleModel",
            "_view_count": null,
            "_view_module": "@jupyter-widgets/base",
            "_view_module_version": "1.2.0",
            "_view_name": "StyleView",
            "description_width": ""
          }
        },
        "75283825bfcd4e88ad6e215845b1c9f7": {
          "model_module": "@jupyter-widgets/controls",
          "model_module_version": "1.5.0",
          "model_name": "HTMLModel",
          "state": {
            "_dom_classes": [],
            "_model_module": "@jupyter-widgets/controls",
            "_model_module_version": "1.5.0",
            "_model_name": "HTMLModel",
            "_view_count": null,
            "_view_module": "@jupyter-widgets/controls",
            "_view_module_version": "1.5.0",
            "_view_name": "HTMLView",
            "description": "",
            "description_tooltip": null,
            "layout": "IPY_MODEL_cca8bd078040495eae1d6191402b7ff8",
            "placeholder": "​",
            "style": "IPY_MODEL_2d97174b8c36477d840b295bc0e1ae21",
            "value": "Downloading readme: 100%"
          }
        },
        "75d010b8e06c462bac20cf980b75a774": {
          "model_module": "@jupyter-widgets/controls",
          "model_module_version": "1.5.0",
          "model_name": "HBoxModel",
          "state": {
            "_dom_classes": [],
            "_model_module": "@jupyter-widgets/controls",
            "_model_module_version": "1.5.0",
            "_model_name": "HBoxModel",
            "_view_count": null,
            "_view_module": "@jupyter-widgets/controls",
            "_view_module_version": "1.5.0",
            "_view_name": "HBoxView",
            "box_style": "",
            "children": [
              "IPY_MODEL_dd04aed4b075444b895cf4c3f41f5aa2",
              "IPY_MODEL_a949e44dfa7b42d38cc962f1f1f708a2",
              "IPY_MODEL_e5613f6d23e244ceb622128f14d4c3d3"
            ],
            "layout": "IPY_MODEL_2408d1a68fe444888d17a5aed474e4f3"
          }
        },
        "80132dee5e2c4f0fbd46a75ec3faec95": {
          "model_module": "@jupyter-widgets/base",
          "model_module_version": "1.2.0",
          "model_name": "LayoutModel",
          "state": {
            "_model_module": "@jupyter-widgets/base",
            "_model_module_version": "1.2.0",
            "_model_name": "LayoutModel",
            "_view_count": null,
            "_view_module": "@jupyter-widgets/base",
            "_view_module_version": "1.2.0",
            "_view_name": "LayoutView",
            "align_content": null,
            "align_items": null,
            "align_self": null,
            "border": null,
            "bottom": null,
            "display": null,
            "flex": null,
            "flex_flow": null,
            "grid_area": null,
            "grid_auto_columns": null,
            "grid_auto_flow": null,
            "grid_auto_rows": null,
            "grid_column": null,
            "grid_gap": null,
            "grid_row": null,
            "grid_template_areas": null,
            "grid_template_columns": null,
            "grid_template_rows": null,
            "height": null,
            "justify_content": null,
            "justify_items": null,
            "left": null,
            "margin": null,
            "max_height": null,
            "max_width": null,
            "min_height": null,
            "min_width": null,
            "object_fit": null,
            "object_position": null,
            "order": null,
            "overflow": null,
            "overflow_x": null,
            "overflow_y": null,
            "padding": null,
            "right": null,
            "top": null,
            "visibility": null,
            "width": null
          }
        },
        "81bb02a0682c47cd9e9e2d2527a1b270": {
          "model_module": "@jupyter-widgets/controls",
          "model_module_version": "1.5.0",
          "model_name": "HTMLModel",
          "state": {
            "_dom_classes": [],
            "_model_module": "@jupyter-widgets/controls",
            "_model_module_version": "1.5.0",
            "_model_name": "HTMLModel",
            "_view_count": null,
            "_view_module": "@jupyter-widgets/controls",
            "_view_module_version": "1.5.0",
            "_view_name": "HTMLView",
            "description": "",
            "description_tooltip": null,
            "layout": "IPY_MODEL_336faf1d92fa40829f24ae36a2de981c",
            "placeholder": "​",
            "style": "IPY_MODEL_b799214aba504e4d86a5e1610a02275a",
            "value": "Creating CSV from Arrow format: 100%"
          }
        },
        "829954e8a593433f9264782b4aee81c7": {
          "model_module": "@jupyter-widgets/controls",
          "model_module_version": "1.5.0",
          "model_name": "HTMLModel",
          "state": {
            "_dom_classes": [],
            "_model_module": "@jupyter-widgets/controls",
            "_model_module_version": "1.5.0",
            "_model_name": "HTMLModel",
            "_view_count": null,
            "_view_module": "@jupyter-widgets/controls",
            "_view_module_version": "1.5.0",
            "_view_name": "HTMLView",
            "description": "",
            "description_tooltip": null,
            "layout": "IPY_MODEL_505c5e5998b94bdd8b148421301caf9e",
            "placeholder": "​",
            "style": "IPY_MODEL_8a04d10f33844dbea9e9e795d011aef0",
            "value": "Downloading data: 100%"
          }
        },
        "8a04d10f33844dbea9e9e795d011aef0": {
          "model_module": "@jupyter-widgets/controls",
          "model_module_version": "1.5.0",
          "model_name": "DescriptionStyleModel",
          "state": {
            "_model_module": "@jupyter-widgets/controls",
            "_model_module_version": "1.5.0",
            "_model_name": "DescriptionStyleModel",
            "_view_count": null,
            "_view_module": "@jupyter-widgets/base",
            "_view_module_version": "1.2.0",
            "_view_name": "StyleView",
            "description_width": ""
          }
        },
        "8a2d18190a784572bea8d357b28660c7": {
          "model_module": "@jupyter-widgets/base",
          "model_module_version": "1.2.0",
          "model_name": "LayoutModel",
          "state": {
            "_model_module": "@jupyter-widgets/base",
            "_model_module_version": "1.2.0",
            "_model_name": "LayoutModel",
            "_view_count": null,
            "_view_module": "@jupyter-widgets/base",
            "_view_module_version": "1.2.0",
            "_view_name": "LayoutView",
            "align_content": null,
            "align_items": null,
            "align_self": null,
            "border": null,
            "bottom": null,
            "display": null,
            "flex": null,
            "flex_flow": null,
            "grid_area": null,
            "grid_auto_columns": null,
            "grid_auto_flow": null,
            "grid_auto_rows": null,
            "grid_column": null,
            "grid_gap": null,
            "grid_row": null,
            "grid_template_areas": null,
            "grid_template_columns": null,
            "grid_template_rows": null,
            "height": null,
            "justify_content": null,
            "justify_items": null,
            "left": null,
            "margin": null,
            "max_height": null,
            "max_width": null,
            "min_height": null,
            "min_width": null,
            "object_fit": null,
            "object_position": null,
            "order": null,
            "overflow": null,
            "overflow_x": null,
            "overflow_y": null,
            "padding": null,
            "right": null,
            "top": null,
            "visibility": null,
            "width": null
          }
        },
        "8b41a607b95e43dea508ec7cf2e8bd67": {
          "model_module": "@jupyter-widgets/controls",
          "model_module_version": "1.5.0",
          "model_name": "ProgressStyleModel",
          "state": {
            "_model_module": "@jupyter-widgets/controls",
            "_model_module_version": "1.5.0",
            "_model_name": "ProgressStyleModel",
            "_view_count": null,
            "_view_module": "@jupyter-widgets/base",
            "_view_module_version": "1.2.0",
            "_view_name": "StyleView",
            "bar_color": null,
            "description_width": ""
          }
        },
        "8b4f18b0c272492c8db59092329dcfc2": {
          "model_module": "@jupyter-widgets/controls",
          "model_module_version": "1.5.0",
          "model_name": "DescriptionStyleModel",
          "state": {
            "_model_module": "@jupyter-widgets/controls",
            "_model_module_version": "1.5.0",
            "_model_name": "DescriptionStyleModel",
            "_view_count": null,
            "_view_module": "@jupyter-widgets/base",
            "_view_module_version": "1.2.0",
            "_view_name": "StyleView",
            "description_width": ""
          }
        },
        "92a8cddfcf874911bee9a74c18e809b7": {
          "model_module": "@jupyter-widgets/controls",
          "model_module_version": "1.5.0",
          "model_name": "FloatProgressModel",
          "state": {
            "_dom_classes": [],
            "_model_module": "@jupyter-widgets/controls",
            "_model_module_version": "1.5.0",
            "_model_name": "FloatProgressModel",
            "_view_count": null,
            "_view_module": "@jupyter-widgets/controls",
            "_view_module_version": "1.5.0",
            "_view_name": "ProgressView",
            "bar_style": "success",
            "description": "",
            "description_tooltip": null,
            "layout": "IPY_MODEL_a0bfb042678b474bb8699c2b0ec9aedc",
            "max": 10753100,
            "min": 0,
            "orientation": "horizontal",
            "style": "IPY_MODEL_c38cf42f7b3547d9a3468e4443b165a6",
            "value": 10753100
          }
        },
        "941d014fa00845688c1c1d3b20ecb962": {
          "model_module": "@jupyter-widgets/controls",
          "model_module_version": "1.5.0",
          "model_name": "HTMLModel",
          "state": {
            "_dom_classes": [],
            "_model_module": "@jupyter-widgets/controls",
            "_model_module_version": "1.5.0",
            "_model_name": "HTMLModel",
            "_view_count": null,
            "_view_module": "@jupyter-widgets/controls",
            "_view_module_version": "1.5.0",
            "_view_name": "HTMLView",
            "description": "",
            "description_tooltip": null,
            "layout": "IPY_MODEL_0568abfe1ece43f69d4b8dfbbd84a4bf",
            "placeholder": "​",
            "style": "IPY_MODEL_de40c74aaef647e4b7e6261bb8992111",
            "value": " 10.8M/10.8M [00:00&lt;00:00, 15.9MB/s]"
          }
        },
        "950ad9277c9f446196f4c754f4a3ad92": {
          "model_module": "@jupyter-widgets/controls",
          "model_module_version": "1.5.0",
          "model_name": "HBoxModel",
          "state": {
            "_dom_classes": [],
            "_model_module": "@jupyter-widgets/controls",
            "_model_module_version": "1.5.0",
            "_model_name": "HBoxModel",
            "_view_count": null,
            "_view_module": "@jupyter-widgets/controls",
            "_view_module_version": "1.5.0",
            "_view_name": "HBoxView",
            "box_style": "",
            "children": [
              "IPY_MODEL_829954e8a593433f9264782b4aee81c7",
              "IPY_MODEL_92a8cddfcf874911bee9a74c18e809b7",
              "IPY_MODEL_941d014fa00845688c1c1d3b20ecb962"
            ],
            "layout": "IPY_MODEL_004e5bb19ebc4191b83b02237bc8bc83"
          }
        },
        "996fefe451b3413b92e51b62ce17a88e": {
          "model_module": "@jupyter-widgets/controls",
          "model_module_version": "1.5.0",
          "model_name": "HTMLModel",
          "state": {
            "_dom_classes": [],
            "_model_module": "@jupyter-widgets/controls",
            "_model_module_version": "1.5.0",
            "_model_name": "HTMLModel",
            "_view_count": null,
            "_view_module": "@jupyter-widgets/controls",
            "_view_module_version": "1.5.0",
            "_view_name": "HTMLView",
            "description": "",
            "description_tooltip": null,
            "layout": "IPY_MODEL_c4902457933c4ba4ac8cb86c35fcd960",
            "placeholder": "​",
            "style": "IPY_MODEL_43f72028c1584b57a434b0558c1eac5c",
            "value": " 21.0/21.0 [00:00&lt;00:00, 1.54kB/s]"
          }
        },
        "a0bfb042678b474bb8699c2b0ec9aedc": {
          "model_module": "@jupyter-widgets/base",
          "model_module_version": "1.2.0",
          "model_name": "LayoutModel",
          "state": {
            "_model_module": "@jupyter-widgets/base",
            "_model_module_version": "1.2.0",
            "_model_name": "LayoutModel",
            "_view_count": null,
            "_view_module": "@jupyter-widgets/base",
            "_view_module_version": "1.2.0",
            "_view_name": "LayoutView",
            "align_content": null,
            "align_items": null,
            "align_self": null,
            "border": null,
            "bottom": null,
            "display": null,
            "flex": null,
            "flex_flow": null,
            "grid_area": null,
            "grid_auto_columns": null,
            "grid_auto_flow": null,
            "grid_auto_rows": null,
            "grid_column": null,
            "grid_gap": null,
            "grid_row": null,
            "grid_template_areas": null,
            "grid_template_columns": null,
            "grid_template_rows": null,
            "height": null,
            "justify_content": null,
            "justify_items": null,
            "left": null,
            "margin": null,
            "max_height": null,
            "max_width": null,
            "min_height": null,
            "min_width": null,
            "object_fit": null,
            "object_position": null,
            "order": null,
            "overflow": null,
            "overflow_x": null,
            "overflow_y": null,
            "padding": null,
            "right": null,
            "top": null,
            "visibility": null,
            "width": null
          }
        },
        "a949e44dfa7b42d38cc962f1f1f708a2": {
          "model_module": "@jupyter-widgets/controls",
          "model_module_version": "1.5.0",
          "model_name": "FloatProgressModel",
          "state": {
            "_dom_classes": [],
            "_model_module": "@jupyter-widgets/controls",
            "_model_module_version": "1.5.0",
            "_model_name": "FloatProgressModel",
            "_view_count": null,
            "_view_module": "@jupyter-widgets/controls",
            "_view_module_version": "1.5.0",
            "_view_name": "ProgressView",
            "bar_style": "success",
            "description": "",
            "description_tooltip": null,
            "layout": "IPY_MODEL_d4fcfbdc91044ef884abdd5d12161514",
            "max": 6591,
            "min": 0,
            "orientation": "horizontal",
            "style": "IPY_MODEL_8b41a607b95e43dea508ec7cf2e8bd67",
            "value": 6591
          }
        },
        "b5b20d0e5f9344f487f178e18dda2bad": {
          "model_module": "@jupyter-widgets/controls",
          "model_module_version": "1.5.0",
          "model_name": "FloatProgressModel",
          "state": {
            "_dom_classes": [],
            "_model_module": "@jupyter-widgets/controls",
            "_model_module_version": "1.5.0",
            "_model_name": "FloatProgressModel",
            "_view_count": null,
            "_view_module": "@jupyter-widgets/controls",
            "_view_module_version": "1.5.0",
            "_view_name": "ProgressView",
            "bar_style": "success",
            "description": "",
            "description_tooltip": null,
            "layout": "IPY_MODEL_c7dccee9019548fba5c24edcaf0e6893",
            "max": 7,
            "min": 0,
            "orientation": "horizontal",
            "style": "IPY_MODEL_2ac5e24035294dc3a752065abe4bf35c",
            "value": 7
          }
        },
        "b799214aba504e4d86a5e1610a02275a": {
          "model_module": "@jupyter-widgets/controls",
          "model_module_version": "1.5.0",
          "model_name": "DescriptionStyleModel",
          "state": {
            "_model_module": "@jupyter-widgets/controls",
            "_model_module_version": "1.5.0",
            "_model_name": "DescriptionStyleModel",
            "_view_count": null,
            "_view_module": "@jupyter-widgets/base",
            "_view_module_version": "1.2.0",
            "_view_name": "StyleView",
            "description_width": ""
          }
        },
        "b879d43736e84d2fbb526c449efd494d": {
          "model_module": "@jupyter-widgets/controls",
          "model_module_version": "1.5.0",
          "model_name": "HBoxModel",
          "state": {
            "_dom_classes": [],
            "_model_module": "@jupyter-widgets/controls",
            "_model_module_version": "1.5.0",
            "_model_name": "HBoxModel",
            "_view_count": null,
            "_view_module": "@jupyter-widgets/controls",
            "_view_module_version": "1.5.0",
            "_view_name": "HBoxView",
            "box_style": "",
            "children": [
              "IPY_MODEL_81bb02a0682c47cd9e9e2d2527a1b270",
              "IPY_MODEL_b5b20d0e5f9344f487f178e18dda2bad",
              "IPY_MODEL_452aa35b398b43e495a1fc80abea4f50"
            ],
            "layout": "IPY_MODEL_80132dee5e2c4f0fbd46a75ec3faec95"
          }
        },
        "b92e637104064258830188d7cd44de2c": {
          "model_module": "@jupyter-widgets/controls",
          "model_module_version": "1.5.0",
          "model_name": "HBoxModel",
          "state": {
            "_dom_classes": [],
            "_model_module": "@jupyter-widgets/controls",
            "_model_module_version": "1.5.0",
            "_model_name": "HBoxModel",
            "_view_count": null,
            "_view_module": "@jupyter-widgets/controls",
            "_view_module_version": "1.5.0",
            "_view_name": "HBoxView",
            "box_style": "",
            "children": [
              "IPY_MODEL_75283825bfcd4e88ad6e215845b1c9f7",
              "IPY_MODEL_f9ab6823b6204f5ebf9377eb9378c5a5",
              "IPY_MODEL_996fefe451b3413b92e51b62ce17a88e"
            ],
            "layout": "IPY_MODEL_ddf5ca36fbbe4b2184fb12dcdcde7b22"
          }
        },
        "c38cf42f7b3547d9a3468e4443b165a6": {
          "model_module": "@jupyter-widgets/controls",
          "model_module_version": "1.5.0",
          "model_name": "ProgressStyleModel",
          "state": {
            "_model_module": "@jupyter-widgets/controls",
            "_model_module_version": "1.5.0",
            "_model_name": "ProgressStyleModel",
            "_view_count": null,
            "_view_module": "@jupyter-widgets/base",
            "_view_module_version": "1.2.0",
            "_view_name": "StyleView",
            "bar_color": null,
            "description_width": ""
          }
        },
        "c4902457933c4ba4ac8cb86c35fcd960": {
          "model_module": "@jupyter-widgets/base",
          "model_module_version": "1.2.0",
          "model_name": "LayoutModel",
          "state": {
            "_model_module": "@jupyter-widgets/base",
            "_model_module_version": "1.2.0",
            "_model_name": "LayoutModel",
            "_view_count": null,
            "_view_module": "@jupyter-widgets/base",
            "_view_module_version": "1.2.0",
            "_view_name": "LayoutView",
            "align_content": null,
            "align_items": null,
            "align_self": null,
            "border": null,
            "bottom": null,
            "display": null,
            "flex": null,
            "flex_flow": null,
            "grid_area": null,
            "grid_auto_columns": null,
            "grid_auto_flow": null,
            "grid_auto_rows": null,
            "grid_column": null,
            "grid_gap": null,
            "grid_row": null,
            "grid_template_areas": null,
            "grid_template_columns": null,
            "grid_template_rows": null,
            "height": null,
            "justify_content": null,
            "justify_items": null,
            "left": null,
            "margin": null,
            "max_height": null,
            "max_width": null,
            "min_height": null,
            "min_width": null,
            "object_fit": null,
            "object_position": null,
            "order": null,
            "overflow": null,
            "overflow_x": null,
            "overflow_y": null,
            "padding": null,
            "right": null,
            "top": null,
            "visibility": null,
            "width": null
          }
        },
        "c7dccee9019548fba5c24edcaf0e6893": {
          "model_module": "@jupyter-widgets/base",
          "model_module_version": "1.2.0",
          "model_name": "LayoutModel",
          "state": {
            "_model_module": "@jupyter-widgets/base",
            "_model_module_version": "1.2.0",
            "_model_name": "LayoutModel",
            "_view_count": null,
            "_view_module": "@jupyter-widgets/base",
            "_view_module_version": "1.2.0",
            "_view_name": "LayoutView",
            "align_content": null,
            "align_items": null,
            "align_self": null,
            "border": null,
            "bottom": null,
            "display": null,
            "flex": null,
            "flex_flow": null,
            "grid_area": null,
            "grid_auto_columns": null,
            "grid_auto_flow": null,
            "grid_auto_rows": null,
            "grid_column": null,
            "grid_gap": null,
            "grid_row": null,
            "grid_template_areas": null,
            "grid_template_columns": null,
            "grid_template_rows": null,
            "height": null,
            "justify_content": null,
            "justify_items": null,
            "left": null,
            "margin": null,
            "max_height": null,
            "max_width": null,
            "min_height": null,
            "min_width": null,
            "object_fit": null,
            "object_position": null,
            "order": null,
            "overflow": null,
            "overflow_x": null,
            "overflow_y": null,
            "padding": null,
            "right": null,
            "top": null,
            "visibility": null,
            "width": null
          }
        },
        "cca8bd078040495eae1d6191402b7ff8": {
          "model_module": "@jupyter-widgets/base",
          "model_module_version": "1.2.0",
          "model_name": "LayoutModel",
          "state": {
            "_model_module": "@jupyter-widgets/base",
            "_model_module_version": "1.2.0",
            "_model_name": "LayoutModel",
            "_view_count": null,
            "_view_module": "@jupyter-widgets/base",
            "_view_module_version": "1.2.0",
            "_view_name": "LayoutView",
            "align_content": null,
            "align_items": null,
            "align_self": null,
            "border": null,
            "bottom": null,
            "display": null,
            "flex": null,
            "flex_flow": null,
            "grid_area": null,
            "grid_auto_columns": null,
            "grid_auto_flow": null,
            "grid_auto_rows": null,
            "grid_column": null,
            "grid_gap": null,
            "grid_row": null,
            "grid_template_areas": null,
            "grid_template_columns": null,
            "grid_template_rows": null,
            "height": null,
            "justify_content": null,
            "justify_items": null,
            "left": null,
            "margin": null,
            "max_height": null,
            "max_width": null,
            "min_height": null,
            "min_width": null,
            "object_fit": null,
            "object_position": null,
            "order": null,
            "overflow": null,
            "overflow_x": null,
            "overflow_y": null,
            "padding": null,
            "right": null,
            "top": null,
            "visibility": null,
            "width": null
          }
        },
        "ce798f5a42634745a247b48b05a2dcce": {
          "model_module": "@jupyter-widgets/base",
          "model_module_version": "1.2.0",
          "model_name": "LayoutModel",
          "state": {
            "_model_module": "@jupyter-widgets/base",
            "_model_module_version": "1.2.0",
            "_model_name": "LayoutModel",
            "_view_count": null,
            "_view_module": "@jupyter-widgets/base",
            "_view_module_version": "1.2.0",
            "_view_name": "LayoutView",
            "align_content": null,
            "align_items": null,
            "align_self": null,
            "border": null,
            "bottom": null,
            "display": null,
            "flex": null,
            "flex_flow": null,
            "grid_area": null,
            "grid_auto_columns": null,
            "grid_auto_flow": null,
            "grid_auto_rows": null,
            "grid_column": null,
            "grid_gap": null,
            "grid_row": null,
            "grid_template_areas": null,
            "grid_template_columns": null,
            "grid_template_rows": null,
            "height": null,
            "justify_content": null,
            "justify_items": null,
            "left": null,
            "margin": null,
            "max_height": null,
            "max_width": null,
            "min_height": null,
            "min_width": null,
            "object_fit": null,
            "object_position": null,
            "order": null,
            "overflow": null,
            "overflow_x": null,
            "overflow_y": null,
            "padding": null,
            "right": null,
            "top": null,
            "visibility": null,
            "width": null
          }
        },
        "d4fcfbdc91044ef884abdd5d12161514": {
          "model_module": "@jupyter-widgets/base",
          "model_module_version": "1.2.0",
          "model_name": "LayoutModel",
          "state": {
            "_model_module": "@jupyter-widgets/base",
            "_model_module_version": "1.2.0",
            "_model_name": "LayoutModel",
            "_view_count": null,
            "_view_module": "@jupyter-widgets/base",
            "_view_module_version": "1.2.0",
            "_view_name": "LayoutView",
            "align_content": null,
            "align_items": null,
            "align_self": null,
            "border": null,
            "bottom": null,
            "display": null,
            "flex": null,
            "flex_flow": null,
            "grid_area": null,
            "grid_auto_columns": null,
            "grid_auto_flow": null,
            "grid_auto_rows": null,
            "grid_column": null,
            "grid_gap": null,
            "grid_row": null,
            "grid_template_areas": null,
            "grid_template_columns": null,
            "grid_template_rows": null,
            "height": null,
            "justify_content": null,
            "justify_items": null,
            "left": null,
            "margin": null,
            "max_height": null,
            "max_width": null,
            "min_height": null,
            "min_width": null,
            "object_fit": null,
            "object_position": null,
            "order": null,
            "overflow": null,
            "overflow_x": null,
            "overflow_y": null,
            "padding": null,
            "right": null,
            "top": null,
            "visibility": null,
            "width": null
          }
        },
        "dd04aed4b075444b895cf4c3f41f5aa2": {
          "model_module": "@jupyter-widgets/controls",
          "model_module_version": "1.5.0",
          "model_name": "HTMLModel",
          "state": {
            "_dom_classes": [],
            "_model_module": "@jupyter-widgets/controls",
            "_model_module_version": "1.5.0",
            "_model_name": "HTMLModel",
            "_view_count": null,
            "_view_module": "@jupyter-widgets/controls",
            "_view_module_version": "1.5.0",
            "_view_name": "HTMLView",
            "description": "",
            "description_tooltip": null,
            "layout": "IPY_MODEL_8a2d18190a784572bea8d357b28660c7",
            "placeholder": "​",
            "style": "IPY_MODEL_5631c14d92fb4ea8bd3f0326e23ed7ba",
            "value": "Generating train split: 100%"
          }
        },
        "ddf5ca36fbbe4b2184fb12dcdcde7b22": {
          "model_module": "@jupyter-widgets/base",
          "model_module_version": "1.2.0",
          "model_name": "LayoutModel",
          "state": {
            "_model_module": "@jupyter-widgets/base",
            "_model_module_version": "1.2.0",
            "_model_name": "LayoutModel",
            "_view_count": null,
            "_view_module": "@jupyter-widgets/base",
            "_view_module_version": "1.2.0",
            "_view_name": "LayoutView",
            "align_content": null,
            "align_items": null,
            "align_self": null,
            "border": null,
            "bottom": null,
            "display": null,
            "flex": null,
            "flex_flow": null,
            "grid_area": null,
            "grid_auto_columns": null,
            "grid_auto_flow": null,
            "grid_auto_rows": null,
            "grid_column": null,
            "grid_gap": null,
            "grid_row": null,
            "grid_template_areas": null,
            "grid_template_columns": null,
            "grid_template_rows": null,
            "height": null,
            "justify_content": null,
            "justify_items": null,
            "left": null,
            "margin": null,
            "max_height": null,
            "max_width": null,
            "min_height": null,
            "min_width": null,
            "object_fit": null,
            "object_position": null,
            "order": null,
            "overflow": null,
            "overflow_x": null,
            "overflow_y": null,
            "padding": null,
            "right": null,
            "top": null,
            "visibility": null,
            "width": null
          }
        },
        "de40c74aaef647e4b7e6261bb8992111": {
          "model_module": "@jupyter-widgets/controls",
          "model_module_version": "1.5.0",
          "model_name": "DescriptionStyleModel",
          "state": {
            "_model_module": "@jupyter-widgets/controls",
            "_model_module_version": "1.5.0",
            "_model_name": "DescriptionStyleModel",
            "_view_count": null,
            "_view_module": "@jupyter-widgets/base",
            "_view_module_version": "1.2.0",
            "_view_name": "StyleView",
            "description_width": ""
          }
        },
        "e5613f6d23e244ceb622128f14d4c3d3": {
          "model_module": "@jupyter-widgets/controls",
          "model_module_version": "1.5.0",
          "model_name": "HTMLModel",
          "state": {
            "_dom_classes": [],
            "_model_module": "@jupyter-widgets/controls",
            "_model_module_version": "1.5.0",
            "_model_name": "HTMLModel",
            "_view_count": null,
            "_view_module": "@jupyter-widgets/controls",
            "_view_module_version": "1.5.0",
            "_view_name": "HTMLView",
            "description": "",
            "description_tooltip": null,
            "layout": "IPY_MODEL_3cc5c62f003b4394b8aa4b7fb73f115a",
            "placeholder": "​",
            "style": "IPY_MODEL_2a91a0a0debf4f30a5b377599f483588",
            "value": " 6591/6591 [00:00&lt;00:00, 31835.04 examples/s]"
          }
        },
        "ea108d27beb24a87b96e8777f11a9415": {
          "model_module": "@jupyter-widgets/base",
          "model_module_version": "1.2.0",
          "model_name": "LayoutModel",
          "state": {
            "_model_module": "@jupyter-widgets/base",
            "_model_module_version": "1.2.0",
            "_model_name": "LayoutModel",
            "_view_count": null,
            "_view_module": "@jupyter-widgets/base",
            "_view_module_version": "1.2.0",
            "_view_name": "LayoutView",
            "align_content": null,
            "align_items": null,
            "align_self": null,
            "border": null,
            "bottom": null,
            "display": null,
            "flex": null,
            "flex_flow": null,
            "grid_area": null,
            "grid_auto_columns": null,
            "grid_auto_flow": null,
            "grid_auto_rows": null,
            "grid_column": null,
            "grid_gap": null,
            "grid_row": null,
            "grid_template_areas": null,
            "grid_template_columns": null,
            "grid_template_rows": null,
            "height": null,
            "justify_content": null,
            "justify_items": null,
            "left": null,
            "margin": null,
            "max_height": null,
            "max_width": null,
            "min_height": null,
            "min_width": null,
            "object_fit": null,
            "object_position": null,
            "order": null,
            "overflow": null,
            "overflow_x": null,
            "overflow_y": null,
            "padding": null,
            "right": null,
            "top": null,
            "visibility": null,
            "width": null
          }
        },
        "f9ab6823b6204f5ebf9377eb9378c5a5": {
          "model_module": "@jupyter-widgets/controls",
          "model_module_version": "1.5.0",
          "model_name": "FloatProgressModel",
          "state": {
            "_dom_classes": [],
            "_model_module": "@jupyter-widgets/controls",
            "_model_module_version": "1.5.0",
            "_model_name": "FloatProgressModel",
            "_view_count": null,
            "_view_module": "@jupyter-widgets/controls",
            "_view_module_version": "1.5.0",
            "_view_name": "ProgressView",
            "bar_style": "success",
            "description": "",
            "description_tooltip": null,
            "layout": "IPY_MODEL_ce798f5a42634745a247b48b05a2dcce",
            "max": 21,
            "min": 0,
            "orientation": "horizontal",
            "style": "IPY_MODEL_0e41beaba551406e8081f7982783b8ff",
            "value": 21
          }
        }
      }
    }
  },
  "nbformat": 4,
  "nbformat_minor": 0
}
